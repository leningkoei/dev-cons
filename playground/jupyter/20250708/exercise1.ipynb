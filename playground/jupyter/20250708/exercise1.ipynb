{
 "cells": [
  {
   "cell_type": "markdown",
   "id": "f679ffb3-5193-4313-ae36-e5c86507376d",
   "metadata": {},
   "source": [
    "来自于UCI主页（<a>http://archive.ics.uci.edu/ml/datasets.html</a>）的数据集Knowledge.xlsx，该一共包含403个观测和6个变量，具体信息如下：\n",
    "\n",
    "<img src=\"exercise1/image1.png\" />\n",
    "\n",
    "前5列分别为学生在目标学科上的学习时长（STG），重复次数（SCG），相关科目的学习时长（STR），相关科目的考试成绩（LPR）和目标科目的考试成绩（PEG），这些指标都已经做了归一化处理，最后一列是学生对知识掌握程度的高低分类（UNS），一共含有四种值，分别为Very Low， Low，Middle和High。\n",
    "\n",
    "针对该数据，构建KNN分类模型，完成以下任务：\n",
    "\n",
    "（1）学生在目标学科上的学习时长（STG）的最大值，最小值，均值和方差，并写入“STG特征量.csv“，格式如下：（5分）；\n",
    "|最大值|最小值|均值|方差|\n",
    "|---|---|---|---|\n",
    "\n",
    "（2）使用kNN模型，根据数据长度length，设置待测试的不同k值，如：k=np.ceil(np.log2(length))，使用10重交叉验证，确定最佳的近邻k的值，并保存为“最佳k值.csv“文件中（5分）； \n",
    "\n",
    "（3）绘制不同K值与平均预测准确率之间的折线图，并保存为‘1.jpg’（5分）"
   ]
  },
  {
   "cell_type": "code",
   "execution_count": 1,
   "id": "5e6c775c-33b3-443f-a853-6111c5b3aa91",
   "metadata": {},
   "outputs": [],
   "source": [
    "from tqdm import tqdm\n",
    "import numpy as np\n",
    "import pandas as pd\n",
    "import matplotlib.pyplot as plt\n",
    "from sklearn.model_selection import cross_val_score\n",
    "from sklearn.neighbors import KNeighborsClassifier"
   ]
  },
  {
   "cell_type": "code",
   "execution_count": 2,
   "id": "351a9f01-236b-4752-8b70-d4a9c7668167",
   "metadata": {},
   "outputs": [
    {
     "data": {
      "text/html": [
       "<div>\n",
       "<style scoped>\n",
       "    .dataframe tbody tr th:only-of-type {\n",
       "        vertical-align: middle;\n",
       "    }\n",
       "\n",
       "    .dataframe tbody tr th {\n",
       "        vertical-align: top;\n",
       "    }\n",
       "\n",
       "    .dataframe thead th {\n",
       "        text-align: right;\n",
       "    }\n",
       "</style>\n",
       "<table border=\"1\" class=\"dataframe\">\n",
       "  <thead>\n",
       "    <tr style=\"text-align: right;\">\n",
       "      <th></th>\n",
       "      <th>STG</th>\n",
       "      <th>SCG</th>\n",
       "      <th>STR</th>\n",
       "      <th>LPR</th>\n",
       "      <th>PEG</th>\n",
       "      <th>UNS</th>\n",
       "    </tr>\n",
       "  </thead>\n",
       "  <tbody>\n",
       "    <tr>\n",
       "      <th>0</th>\n",
       "      <td>0.00</td>\n",
       "      <td>0.00</td>\n",
       "      <td>0.00</td>\n",
       "      <td>0.00</td>\n",
       "      <td>0.00</td>\n",
       "      <td>Very Low</td>\n",
       "    </tr>\n",
       "    <tr>\n",
       "      <th>1</th>\n",
       "      <td>0.08</td>\n",
       "      <td>0.08</td>\n",
       "      <td>0.10</td>\n",
       "      <td>0.24</td>\n",
       "      <td>0.90</td>\n",
       "      <td>High</td>\n",
       "    </tr>\n",
       "    <tr>\n",
       "      <th>2</th>\n",
       "      <td>0.06</td>\n",
       "      <td>0.06</td>\n",
       "      <td>0.05</td>\n",
       "      <td>0.25</td>\n",
       "      <td>0.33</td>\n",
       "      <td>Low</td>\n",
       "    </tr>\n",
       "    <tr>\n",
       "      <th>3</th>\n",
       "      <td>0.10</td>\n",
       "      <td>0.10</td>\n",
       "      <td>0.15</td>\n",
       "      <td>0.65</td>\n",
       "      <td>0.30</td>\n",
       "      <td>Middle</td>\n",
       "    </tr>\n",
       "    <tr>\n",
       "      <th>4</th>\n",
       "      <td>0.08</td>\n",
       "      <td>0.08</td>\n",
       "      <td>0.08</td>\n",
       "      <td>0.98</td>\n",
       "      <td>0.24</td>\n",
       "      <td>Low</td>\n",
       "    </tr>\n",
       "    <tr>\n",
       "      <th>...</th>\n",
       "      <td>...</td>\n",
       "      <td>...</td>\n",
       "      <td>...</td>\n",
       "      <td>...</td>\n",
       "      <td>...</td>\n",
       "      <td>...</td>\n",
       "    </tr>\n",
       "    <tr>\n",
       "      <th>398</th>\n",
       "      <td>0.90</td>\n",
       "      <td>0.78</td>\n",
       "      <td>0.62</td>\n",
       "      <td>0.32</td>\n",
       "      <td>0.89</td>\n",
       "      <td>High</td>\n",
       "    </tr>\n",
       "    <tr>\n",
       "      <th>399</th>\n",
       "      <td>0.85</td>\n",
       "      <td>0.82</td>\n",
       "      <td>0.66</td>\n",
       "      <td>0.83</td>\n",
       "      <td>0.83</td>\n",
       "      <td>High</td>\n",
       "    </tr>\n",
       "    <tr>\n",
       "      <th>400</th>\n",
       "      <td>0.56</td>\n",
       "      <td>0.60</td>\n",
       "      <td>0.77</td>\n",
       "      <td>0.13</td>\n",
       "      <td>0.32</td>\n",
       "      <td>Low</td>\n",
       "    </tr>\n",
       "    <tr>\n",
       "      <th>401</th>\n",
       "      <td>0.66</td>\n",
       "      <td>0.68</td>\n",
       "      <td>0.81</td>\n",
       "      <td>0.57</td>\n",
       "      <td>0.57</td>\n",
       "      <td>Middle</td>\n",
       "    </tr>\n",
       "    <tr>\n",
       "      <th>402</th>\n",
       "      <td>0.68</td>\n",
       "      <td>0.64</td>\n",
       "      <td>0.79</td>\n",
       "      <td>0.97</td>\n",
       "      <td>0.24</td>\n",
       "      <td>Middle</td>\n",
       "    </tr>\n",
       "  </tbody>\n",
       "</table>\n",
       "<p>403 rows × 6 columns</p>\n",
       "</div>"
      ],
      "text/plain": [
       "      STG   SCG   STR   LPR   PEG       UNS\n",
       "0    0.00  0.00  0.00  0.00  0.00  Very Low\n",
       "1    0.08  0.08  0.10  0.24  0.90      High\n",
       "2    0.06  0.06  0.05  0.25  0.33       Low\n",
       "3    0.10  0.10  0.15  0.65  0.30    Middle\n",
       "4    0.08  0.08  0.08  0.98  0.24       Low\n",
       "..    ...   ...   ...   ...   ...       ...\n",
       "398  0.90  0.78  0.62  0.32  0.89      High\n",
       "399  0.85  0.82  0.66  0.83  0.83      High\n",
       "400  0.56  0.60  0.77  0.13  0.32       Low\n",
       "401  0.66  0.68  0.81  0.57  0.57    Middle\n",
       "402  0.68  0.64  0.79  0.97  0.24    Middle\n",
       "\n",
       "[403 rows x 6 columns]"
      ]
     },
     "execution_count": 2,
     "metadata": {},
     "output_type": "execute_result"
    }
   ],
   "source": [
    "data = pd.read_excel(\"exercise1/Knowledge.xlsx\")\n",
    "data"
   ]
  },
  {
   "cell_type": "markdown",
   "id": "b68e9a2a-1956-46c7-9c38-f679f42c4191",
   "metadata": {},
   "source": [
    "#### (1)\n",
    "学生在目标学科上的学习时长（STG）的最大值，最小值，均值和方差，并写入“STG特征量.csv“，格式如下：（5分）；\n",
    "|最大值|最小值|均值|方差|\n",
    "|---|---|---|---|"
   ]
  },
  {
   "cell_type": "code",
   "execution_count": 3,
   "id": "40e7b801-e8c4-491c-8b05-a9f897966721",
   "metadata": {},
   "outputs": [
    {
     "data": {
      "text/html": [
       "<div>\n",
       "<style scoped>\n",
       "    .dataframe tbody tr th:only-of-type {\n",
       "        vertical-align: middle;\n",
       "    }\n",
       "\n",
       "    .dataframe tbody tr th {\n",
       "        vertical-align: top;\n",
       "    }\n",
       "\n",
       "    .dataframe thead th {\n",
       "        text-align: right;\n",
       "    }\n",
       "</style>\n",
       "<table border=\"1\" class=\"dataframe\">\n",
       "  <thead>\n",
       "    <tr style=\"text-align: right;\">\n",
       "      <th></th>\n",
       "      <th>最大值</th>\n",
       "      <th>最小值</th>\n",
       "      <th>均值</th>\n",
       "      <th>方差</th>\n",
       "    </tr>\n",
       "  </thead>\n",
       "  <tbody>\n",
       "    <tr>\n",
       "      <th>0</th>\n",
       "      <td>0.99</td>\n",
       "      <td>0.0</td>\n",
       "      <td>0.353141</td>\n",
       "      <td>0.044951</td>\n",
       "    </tr>\n",
       "  </tbody>\n",
       "</table>\n",
       "</div>"
      ],
      "text/plain": [
       "    最大值  最小值        均值        方差\n",
       "0  0.99  0.0  0.353141  0.044951"
      ]
     },
     "execution_count": 3,
     "metadata": {},
     "output_type": "execute_result"
    }
   ],
   "source": [
    "result = pd.DataFrame([[\n",
    "    data[\"STG\"].max(),\n",
    "    data[\"STG\"].min(),\n",
    "    data[\"STG\"].mean(),\n",
    "    data[\"STG\"].var()\n",
    "]], columns = [\"最大值\", \"最小值\", \"均值\", \"方差\"])\n",
    "result"
   ]
  },
  {
   "cell_type": "code",
   "execution_count": 4,
   "id": "ac2a7c72-ab8c-4002-9e71-cba75adfc9cc",
   "metadata": {},
   "outputs": [],
   "source": [
    "result.to_csv(\"exercise1/STG特征量.csv\", index = False)"
   ]
  },
  {
   "cell_type": "markdown",
   "id": "4435b06f-d472-4ccc-a8b6-d507e2ea0e9e",
   "metadata": {},
   "source": [
    "#### (2)\n",
    "使用kNN模型，根据数据长度length，设置待测试的不同k值，如：k=np.ceil(np.log2(length))，使用10重交叉验证，确定最佳的近邻k的值，并保存为“最佳k值.csv“文件中（5分）； "
   ]
  },
  {
   "cell_type": "code",
   "execution_count": 5,
   "id": "a8e80dfc-1706-421a-ae35-f0ab2370dc0e",
   "metadata": {},
   "outputs": [
    {
     "data": {
      "text/plain": [
       "np.float64(9.0)"
      ]
     },
     "execution_count": 5,
     "metadata": {},
     "output_type": "execute_result"
    }
   ],
   "source": [
    "scores = []\n",
    "k = np.ceil(np.log2(data.shape[0]))\n",
    "k"
   ]
  },
  {
   "cell_type": "code",
   "execution_count": 6,
   "id": "ad1623a0",
   "metadata": {},
   "outputs": [
    {
     "data": {
      "text/plain": [
       "403"
      ]
     },
     "execution_count": 6,
     "metadata": {},
     "output_type": "execute_result"
    }
   ],
   "source": [
    "len(data)"
   ]
  },
  {
   "cell_type": "code",
   "execution_count": 7,
   "id": "cfacd8fd-2031-4dec-8414-924c1b78e2b6",
   "metadata": {},
   "outputs": [
    {
     "data": {
      "text/plain": [
       "(403, 6)"
      ]
     },
     "execution_count": 7,
     "metadata": {},
     "output_type": "execute_result"
    }
   ],
   "source": [
    "data.shape"
   ]
  },
  {
   "cell_type": "code",
   "execution_count": 8,
   "id": "58795934-f0de-4053-9e1e-759822feb9e1",
   "metadata": {},
   "outputs": [
    {
     "name": "stderr",
     "output_type": "stream",
     "text": [
      "100%|██████████| 18/18 [00:03<00:00,  5.20it/s]\n"
     ]
    },
    {
     "data": {
      "text/plain": [
       "[np.float64(0.821890243902439),\n",
       " np.float64(0.8337804878048782),\n",
       " np.float64(0.8615243902439025),\n",
       " np.float64(0.8560975609756097),\n",
       " np.float64(0.8664024390243903),\n",
       " np.float64(0.8560365853658537),\n",
       " np.float64(0.853780487804878),\n",
       " np.float64(0.8660365853658536),\n",
       " np.float64(0.8562195121951218),\n",
       " np.float64(0.8612195121951218),\n",
       " np.float64(0.8585975609756098),\n",
       " np.float64(0.8487195121951221),\n",
       " np.float64(0.8510975609756098),\n",
       " np.float64(0.8535975609756097),\n",
       " np.float64(0.8535975609756097),\n",
       " np.float64(0.843719512195122),\n",
       " np.float64(0.8339634146341461),\n",
       " np.float64(0.818841463414634)]"
      ]
     },
     "execution_count": 8,
     "metadata": {},
     "output_type": "execute_result"
    }
   ],
   "source": [
    "for kk in tqdm(range(int(k - 8), int(k + 10))):\n",
    "    model = KNeighborsClassifier(n_neighbors = kk, n_jobs = -1)\n",
    "    score = np.mean(cross_val_score(model, data.drop(\"UNS\", axis = 1), data[\"UNS\"], cv=10, n_jobs = -1))\n",
    "    scores.append(score)\n",
    "scores"
   ]
  },
  {
   "cell_type": "code",
   "execution_count": 9,
   "id": "9b909794-783c-4fe6-bdd4-c33ff07f6684",
   "metadata": {},
   "outputs": [
    {
     "data": {
      "text/plain": [
       "5"
      ]
     },
     "execution_count": 9,
     "metadata": {},
     "output_type": "execute_result"
    }
   ],
   "source": [
    "idx = scores.index(max(scores))\n",
    "best_k = list(range(int(k - 8), int(k + 10)))[idx]\n",
    "best_k"
   ]
  },
  {
   "cell_type": "code",
   "execution_count": 10,
   "id": "71223d1f-4f1c-4fef-aa83-0267a52bedad",
   "metadata": {},
   "outputs": [],
   "source": [
    "with open(\"exercise1/最佳k值.csv\", \"w\") as f:\n",
    "    f.write(str(best_k))"
   ]
  },
  {
   "cell_type": "markdown",
   "id": "90a63ee2-4a7c-4e1b-b3b5-3660f399c0dc",
   "metadata": {},
   "source": [
    "#### (3)\n",
    "绘制不同K值与平均预测准确率之间的折线图，并保存为‘1.jpg’（5分）"
   ]
  },
  {
   "cell_type": "code",
   "execution_count": 11,
   "id": "50423f0e-7488-4187-8f80-258833f529ef",
   "metadata": {},
   "outputs": [
    {
     "data": {
      "image/png": "[encoded data removed]",
      "text/plain": [
       "<Figure size 640x480 with 1 Axes>"
      ]
     },
     "metadata": {},
     "output_type": "display_data"
    }
   ],
   "source": [
    "plt.show()\n",
    "# plt.figure(1)\n",
    "plt.plot(list(range(int(k - 8), int(k + 10))), scores)\n",
    "plt.xlabel(\"k\")\n",
    "plt.ylabel(\"PingJunYuCeZhunQueLv\")\n",
    "plt.savefig(\"exercise1/1.jpg\")\n",
    "plt.show()"
   ]
  }
 ],
 "metadata": {
  "kernelspec": {
   "display_name": "base",
   "language": "python",
   "name": "python3"
  },
  "language_info": {
   "codemirror_mode": {
    "name": "ipython",
    "version": 3
   },
   "file_extension": ".py",
   "mimetype": "text/x-python",
   "name": "python",
   "nbconvert_exporter": "python",
   "pygments_lexer": "ipython3",
   "version": "3.11.6"
  }
 },
 "nbformat": 4,
 "nbformat_minor": 5
}
