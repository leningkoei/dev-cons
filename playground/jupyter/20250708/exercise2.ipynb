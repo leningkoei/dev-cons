{
 "cells": [
  {
   "cell_type": "markdown",
   "id": "3b8094d6-24f4-4803-8f14-9b5d944e6e8e",
   "metadata": {},
   "source": [
    "数据文件sec_buildings.xlsx为某地区的二手房房价信息，根据如下数据格式，完成以下任务。\n",
    "\n",
    "<img src=\"exercise2/image1.png\" />\n",
    "\n",
    "（1）price_unit为房价单价，根据数据计算房价的均值，房价最低值，房价最高值，并保存为“房价特征量.csv“文件中，格式如下：（5分）\n",
    "|房价均值|房价最低值|房价最高值|\n",
    "|-------|---------|---------|\n",
    "\n",
    "（2）分别求出房价单价price_unit的四分之一与四分之三位数，并保存到“四分位数.csv“文件中，格式如下：（5分） \n",
    "|四分之一位数|四分之三位数|\n",
    "|-----------|-----------|\n",
    "\n",
    "（3）绘制二手房单价分布的箱线图，并保存为1.jpg（5分） "
   ]
  },
  {
   "cell_type": "code",
   "execution_count": 26,
   "id": "d6658a0d-cc07-4477-b8a8-9f61978bebb3",
   "metadata": {},
   "outputs": [],
   "source": [
    "import numpy as np\n",
    "import pandas as pd\n",
    "import matplotlib.pyplot as plt"
   ]
  },
  {
   "cell_type": "code",
   "execution_count": 4,
   "id": "651dffa3-548e-4903-991e-7bcf3cda8473",
   "metadata": {},
   "outputs": [
    {
     "data": {
      "text/html": [
       "<div>\n",
       "<style scoped>\n",
       "    .dataframe tbody tr th:only-of-type {\n",
       "        vertical-align: middle;\n",
       "    }\n",
       "\n",
       "    .dataframe tbody tr th {\n",
       "        vertical-align: top;\n",
       "    }\n",
       "\n",
       "    .dataframe thead th {\n",
       "        text-align: right;\n",
       "    }\n",
       "</style>\n",
       "<table border=\"1\" class=\"dataframe\">\n",
       "  <thead>\n",
       "    <tr style=\"text-align: right;\">\n",
       "      <th></th>\n",
       "      <th>block</th>\n",
       "      <th>type</th>\n",
       "      <th>size</th>\n",
       "      <th>region</th>\n",
       "      <th>height</th>\n",
       "      <th>direction</th>\n",
       "      <th>price</th>\n",
       "      <th>built_date</th>\n",
       "      <th>price_unit</th>\n",
       "    </tr>\n",
       "  </thead>\n",
       "  <tbody>\n",
       "    <tr>\n",
       "      <th>0</th>\n",
       "      <td>梅园六街坊</td>\n",
       "      <td>2室0厅</td>\n",
       "      <td>47.72</td>\n",
       "      <td>浦东</td>\n",
       "      <td>低区/6层</td>\n",
       "      <td>朝南</td>\n",
       "      <td>500</td>\n",
       "      <td>1992年建</td>\n",
       "      <td>104777</td>\n",
       "    </tr>\n",
       "    <tr>\n",
       "      <th>1</th>\n",
       "      <td>碧云新天地（一期）</td>\n",
       "      <td>3室2厅</td>\n",
       "      <td>108.93</td>\n",
       "      <td>浦东</td>\n",
       "      <td>低区/6层</td>\n",
       "      <td>朝南</td>\n",
       "      <td>735</td>\n",
       "      <td>2002年建</td>\n",
       "      <td>67474</td>\n",
       "    </tr>\n",
       "    <tr>\n",
       "      <th>2</th>\n",
       "      <td>博山小区</td>\n",
       "      <td>1室1厅</td>\n",
       "      <td>43.79</td>\n",
       "      <td>浦东</td>\n",
       "      <td>中区/6层</td>\n",
       "      <td>朝南</td>\n",
       "      <td>260</td>\n",
       "      <td>1988年建</td>\n",
       "      <td>59374</td>\n",
       "    </tr>\n",
       "    <tr>\n",
       "      <th>3</th>\n",
       "      <td>金桥新村四街坊（博兴路986弄）</td>\n",
       "      <td>1室1厅</td>\n",
       "      <td>41.66</td>\n",
       "      <td>浦东</td>\n",
       "      <td>中区/6层</td>\n",
       "      <td>朝南北</td>\n",
       "      <td>280</td>\n",
       "      <td>1997年建</td>\n",
       "      <td>67210</td>\n",
       "    </tr>\n",
       "    <tr>\n",
       "      <th>4</th>\n",
       "      <td>博山小区</td>\n",
       "      <td>1室0厅</td>\n",
       "      <td>39.77</td>\n",
       "      <td>浦东</td>\n",
       "      <td>高区/6层</td>\n",
       "      <td>朝南</td>\n",
       "      <td>235</td>\n",
       "      <td>1987年建</td>\n",
       "      <td>59089</td>\n",
       "    </tr>\n",
       "    <tr>\n",
       "      <th>...</th>\n",
       "      <td>...</td>\n",
       "      <td>...</td>\n",
       "      <td>...</td>\n",
       "      <td>...</td>\n",
       "      <td>...</td>\n",
       "      <td>...</td>\n",
       "      <td>...</td>\n",
       "      <td>...</td>\n",
       "      <td>...</td>\n",
       "    </tr>\n",
       "    <tr>\n",
       "      <th>20270</th>\n",
       "      <td>棕榈湾花园</td>\n",
       "      <td>3室2厅</td>\n",
       "      <td>118.31</td>\n",
       "      <td>金山</td>\n",
       "      <td>低区/6层</td>\n",
       "      <td>朝南</td>\n",
       "      <td>330</td>\n",
       "      <td>2004年建</td>\n",
       "      <td>27892</td>\n",
       "    </tr>\n",
       "    <tr>\n",
       "      <th>20271</th>\n",
       "      <td>绿舟星城</td>\n",
       "      <td>3室2厅</td>\n",
       "      <td>102.77</td>\n",
       "      <td>崇明</td>\n",
       "      <td>低区/6层</td>\n",
       "      <td>朝南</td>\n",
       "      <td>180</td>\n",
       "      <td>2011年建</td>\n",
       "      <td>17514</td>\n",
       "    </tr>\n",
       "    <tr>\n",
       "      <th>20272</th>\n",
       "      <td>明珠花苑（崇明）</td>\n",
       "      <td>2室2厅</td>\n",
       "      <td>101.59</td>\n",
       "      <td>崇明</td>\n",
       "      <td>中区/6层</td>\n",
       "      <td>朝南北</td>\n",
       "      <td>205</td>\n",
       "      <td>2004年建</td>\n",
       "      <td>20179</td>\n",
       "    </tr>\n",
       "    <tr>\n",
       "      <th>20273</th>\n",
       "      <td>凤辰乐苑</td>\n",
       "      <td>2室1厅</td>\n",
       "      <td>81.43</td>\n",
       "      <td>崇明</td>\n",
       "      <td>高区/6层</td>\n",
       "      <td>朝南北</td>\n",
       "      <td>210</td>\n",
       "      <td>2008年建</td>\n",
       "      <td>25789</td>\n",
       "    </tr>\n",
       "    <tr>\n",
       "      <th>20274</th>\n",
       "      <td>富源花苑</td>\n",
       "      <td>2室2厅</td>\n",
       "      <td>90.61</td>\n",
       "      <td>崇明</td>\n",
       "      <td>高区/6层</td>\n",
       "      <td>朝南北</td>\n",
       "      <td>120</td>\n",
       "      <td>2004年建</td>\n",
       "      <td>13243</td>\n",
       "    </tr>\n",
       "  </tbody>\n",
       "</table>\n",
       "<p>20275 rows × 9 columns</p>\n",
       "</div>"
      ],
      "text/plain": [
       "                  block  type    size region height direction  price  \\\n",
       "0                 梅园六街坊  2室0厅   47.72     浦东  低区/6层        朝南    500   \n",
       "1             碧云新天地（一期）  3室2厅  108.93     浦东  低区/6层        朝南    735   \n",
       "2                  博山小区  1室1厅   43.79     浦东  中区/6层        朝南    260   \n",
       "3      金桥新村四街坊（博兴路986弄）  1室1厅   41.66     浦东  中区/6层       朝南北    280   \n",
       "4                  博山小区  1室0厅   39.77     浦东  高区/6层        朝南    235   \n",
       "...                 ...   ...     ...    ...    ...       ...    ...   \n",
       "20270             棕榈湾花园  3室2厅  118.31     金山  低区/6层        朝南    330   \n",
       "20271              绿舟星城  3室2厅  102.77     崇明  低区/6层        朝南    180   \n",
       "20272          明珠花苑（崇明）  2室2厅  101.59     崇明  中区/6层       朝南北    205   \n",
       "20273              凤辰乐苑  2室1厅   81.43     崇明  高区/6层       朝南北    210   \n",
       "20274              富源花苑  2室2厅   90.61     崇明  高区/6层       朝南北    120   \n",
       "\n",
       "      built_date  price_unit  \n",
       "0         1992年建      104777  \n",
       "1         2002年建       67474  \n",
       "2         1988年建       59374  \n",
       "3         1997年建       67210  \n",
       "4         1987年建       59089  \n",
       "...          ...         ...  \n",
       "20270     2004年建       27892  \n",
       "20271     2011年建       17514  \n",
       "20272     2004年建       20179  \n",
       "20273     2008年建       25789  \n",
       "20274     2004年建       13243  \n",
       "\n",
       "[20275 rows x 9 columns]"
      ]
     },
     "execution_count": 4,
     "metadata": {},
     "output_type": "execute_result"
    }
   ],
   "source": [
    "data = pd.read_excel(\"exercise2/sec_buildings.xlsx\")\n",
    "data"
   ]
  },
  {
   "cell_type": "markdown",
   "id": "2e01aad0-13b2-466d-9ff1-5681c4f81ba2",
   "metadata": {},
   "source": [
    "#### (1)\n",
    "price_unit为房价单价，根据数据计算房价的均值，房价最低值，房价最高值，并保存为“房价特征量.csv“文件中，格式如下：（5分）\n",
    "|房价均值|房价最低值|房价最高值|\n",
    "|-------|---------|---------|"
   ]
  },
  {
   "cell_type": "code",
   "execution_count": 14,
   "id": "04e4c4c5-d38b-432b-b072-11fd0579843c",
   "metadata": {},
   "outputs": [
    {
     "data": {
      "text/html": [
       "<div>\n",
       "<style scoped>\n",
       "    .dataframe tbody tr th:only-of-type {\n",
       "        vertical-align: middle;\n",
       "    }\n",
       "\n",
       "    .dataframe tbody tr th {\n",
       "        vertical-align: top;\n",
       "    }\n",
       "\n",
       "    .dataframe thead th {\n",
       "        text-align: right;\n",
       "    }\n",
       "</style>\n",
       "<table border=\"1\" class=\"dataframe\">\n",
       "  <thead>\n",
       "    <tr style=\"text-align: right;\">\n",
       "      <th></th>\n",
       "      <th>房价均值</th>\n",
       "      <th>房价最低值</th>\n",
       "      <th>房价最高值</th>\n",
       "    </tr>\n",
       "  </thead>\n",
       "  <tbody>\n",
       "    <tr>\n",
       "      <th>0</th>\n",
       "      <td>57454.495142</td>\n",
       "      <td>8996</td>\n",
       "      <td>199325</td>\n",
       "    </tr>\n",
       "  </tbody>\n",
       "</table>\n",
       "</div>"
      ],
      "text/plain": [
       "           房价均值  房价最低值   房价最高值\n",
       "0  57454.495142   8996  199325"
      ]
     },
     "execution_count": 14,
     "metadata": {},
     "output_type": "execute_result"
    }
   ],
   "source": [
    "result = pd.DataFrame([[\n",
    "    data[\"price_unit\"].mean(),\n",
    "    data[\"price_unit\"].min(),\n",
    "    data[\"price_unit\"].max(),\n",
    "]], columns = [\"房价均值\", \"房价最低值\", \"房价最高值\"])\n",
    "result"
   ]
  },
  {
   "cell_type": "code",
   "execution_count": 17,
   "id": "0dc9b5b7-0462-40be-b44f-a637e77b6177",
   "metadata": {},
   "outputs": [],
   "source": [
    "result.to_csv(\"exercise2/房价特征量.csv\", index = False)"
   ]
  },
  {
   "cell_type": "markdown",
   "id": "cd4438ba-7b49-4291-8c8e-d83f3eb56bd8",
   "metadata": {},
   "source": [
    "#### (2)\n",
    "分别求出房价单价price_unit的四分之一与四分之三位数，并保存到“四分位数.csv“文件中，格式如下：（5分） \n",
    "|四分之一位数|四分之三位数|\n",
    "|-----------|-----------|"
   ]
  },
  {
   "cell_type": "code",
   "execution_count": 22,
   "id": "e12e18ec-6911-40fc-bb19-2cff6396defb",
   "metadata": {},
   "outputs": [
    {
     "data": {
      "text/html": [
       "<div>\n",
       "<style scoped>\n",
       "    .dataframe tbody tr th:only-of-type {\n",
       "        vertical-align: middle;\n",
       "    }\n",
       "\n",
       "    .dataframe tbody tr th {\n",
       "        vertical-align: top;\n",
       "    }\n",
       "\n",
       "    .dataframe thead th {\n",
       "        text-align: right;\n",
       "    }\n",
       "</style>\n",
       "<table border=\"1\" class=\"dataframe\">\n",
       "  <thead>\n",
       "    <tr style=\"text-align: right;\">\n",
       "      <th></th>\n",
       "      <th>四分之一位数</th>\n",
       "      <th>四分之三位数</th>\n",
       "    </tr>\n",
       "  </thead>\n",
       "  <tbody>\n",
       "    <tr>\n",
       "      <th>0</th>\n",
       "      <td>44904.5</td>\n",
       "      <td>67718.5</td>\n",
       "    </tr>\n",
       "  </tbody>\n",
       "</table>\n",
       "</div>"
      ],
      "text/plain": [
       "    四分之一位数   四分之三位数\n",
       "0  44904.5  67718.5"
      ]
     },
     "execution_count": 22,
     "metadata": {},
     "output_type": "execute_result"
    }
   ],
   "source": [
    "result2 = pd.DataFrame([[\n",
    "    data[\"price_unit\"].quantile(0.25),\n",
    "    data[\"price_unit\"].quantile(0.75),\n",
    "]], columns = [\"四分之一位数\", \"四分之三位数\"])\n",
    "result2"
   ]
  },
  {
   "cell_type": "code",
   "execution_count": 23,
   "id": "00870c35-738a-429b-8426-cfd6c182322c",
   "metadata": {},
   "outputs": [],
   "source": [
    "result2.to_csv(\"exercise2/四分位数.csv\", index = False)"
   ]
  },
  {
   "cell_type": "markdown",
   "id": "82974a33-dfc5-4c64-a0c5-fb020a47d9e7",
   "metadata": {},
   "source": [
    "#### (3)\n",
    "绘制二手房单价分布的箱线图，并保存为1.jpg（5分） "
   ]
  },
  {
   "cell_type": "code",
   "execution_count": 36,
   "id": "a3cab478-2100-48e2-89f0-ce1be13fa648",
   "metadata": {},
   "outputs": [
    {
     "data": {
      "image/png": "[encoded data removed]",
      "text/plain": [
       "<Figure size 640x480 with 1 Axes>"
      ]
     },
     "metadata": {},
     "output_type": "display_data"
    }
   ],
   "source": [
    "plt.show()\n",
    "plt.boxplot(\n",
    "    x = data.price_unit,\n",
    "    # patch_artist = True,\n",
    "    # showmeans = True,\n",
    "    # boxprops = {\"color\": \"black\", \"facecolor\": \"steelblue\"},\n",
    "    # flierprops = {\"marker\": \"o\", \"markerfacecolor\": \"red\", \"markersize\": 3},\n",
    "    # meanprops = {\"marker\": \"D\", \"markerfacecolor\": \"indianred\", \"markersize\": 4},\n",
    "    # medianprops = {\"linestyle\": \"--\", \"color\": \"orange\"},\n",
    "    tick_labels = [\"\"]\n",
    ")\n",
    "plt.title(\"ErShouFangFenBuDeXiangXianTu\")\n",
    "plt.savefig(\"exercise2/1.jpg\")\n",
    "plt.show()"
   ]
  }
 ],
 "metadata": {
  "kernelspec": {
   "display_name": "base",
   "language": "python",
   "name": "python3"
  },
  "language_info": {
   "codemirror_mode": {
    "name": "ipython",
    "version": 3
   },
   "file_extension": ".py",
   "mimetype": "text/x-python",
   "name": "python",
   "nbconvert_exporter": "python",
   "pygments_lexer": "ipython3",
   "version": "3.11.6"
  }
 },
 "nbformat": 4,
 "nbformat_minor": 5
}
