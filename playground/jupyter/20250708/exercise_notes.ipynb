{
 "cells": [
  {
   "cell_type": "markdown",
   "id": "d87858e2-480e-4010-a415-b66fee929704",
   "metadata": {},
   "source": [
    "## imports\n",
    "- `from tqdm import tqdm`\n",
    "- `import numpy as np`\n",
    "- `import pandas as pd`\n",
    "- `import matplotlib.pyplot as plt`\n",
    "- `from sklearn.model_selection import cross_val_score`\n",
    "- `from sklearn.neighbors import KNeighborsClassifier`"
   ]
  },
  {
   "cell_type": "markdown",
   "id": "745bde9f-de51-46b0-b7c8-1a5e02660e4b",
   "metadata": {},
   "source": [
    "## pandas\n",
    "- `pd.DataFrame[column_name]` 通过列明选取矩阵（表格）的一列\n",
    "- `pd.read_excel : (path : String) -> pd.DataFrame` 通过excel路径读取各种excel文件返回DataFrame，如果遇到编码错误可以尝试增加`encoding = \"latin1\"`，设置表头所在行`header = n`\n",
    "- `pd.DataFrame : List NList a n -> (columes : NList String n) -> pd.DataFrame` 将a填写至DataFrame，表头是column\n",
    "- `pd.DataFrame.to_csv : (path : String) -> (index : Option Bool) -> IO Unit` 将DataFrame输出至指定path的csv文件中，index=False表示不输出行号\n",
    "- `pd.to_datetime : pd.Series -> pd.Series` 将series那列转化成时间格式\n",
    "- `pd.get_dummies : pd.DataFrame -> (columns : Option List String) -> pd.DataFrame` 将在columns中的列独立热编码（one-hot）\n",
    "- `pd.Series.max` 一列中的最大值\n",
    "- `pd.Series.min` 一列中的最小值\n",
    "- `pd.Series.mean` 一列中的平均值\n",
    "- `pd.Series.var` 一列中的方差"
   ]
  },
  {
   "cell_type": "markdown",
   "id": "b09618d0-7834-41fd-9937-3908f23e1faf",
   "metadata": {},
   "source": [
    "## matplotlib.pyplot\n",
    "- import as plt\n",
    "- 必须全写在一个cell中\n",
    "- `plt.plot [Num a b] : (x : List a) -> (y : List b) -> IO Unit` 绘制折线图\n",
    "- `plt.boxplot [Num a] : (x : Option (List a)) -> IO Unit` 绘制箱线图\n",
    "- `plt.savefig : (path : String) -> IO Unit` 将图片保存至path\n",
    "- `plt.xlabel : (labelName : String) -> IO Unit` 设置x轴标签\n",
    "- `plt.ylabel : (labelName : String) -> IO Unit` 设置y轴标签"
   ]
  },
  {
   "cell_type": "markdown",
   "id": "a6ca0b40-a8ce-4cf0-87de-24e3381bc05d",
   "metadata": {},
   "source": [
    "## tqdm\n",
    "- `tqdm : List Int -> TQDM?` 接收一个数组，返回一个进度条。如果for in这个进度条，这个进度条就会显示进度。差不多这个意思吧也没什么用。"
   ]
  }
 ],
 "metadata": {
  "kernelspec": {
   "display_name": "Python 3 (ipykernel)",
   "language": "python",
   "name": "python3"
  },
  "language_info": {
   "codemirror_mode": {
    "name": "ipython",
    "version": 3
   },
   "file_extension": ".py",
   "mimetype": "text/x-python",
   "name": "python",
   "nbconvert_exporter": "python",
   "pygments_lexer": "ipython3",
   "version": "3.11.6"
  }
 },
 "nbformat": 4,
 "nbformat_minor": 5
}
