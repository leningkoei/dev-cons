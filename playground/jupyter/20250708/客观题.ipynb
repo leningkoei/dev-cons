{
 "cells": [
  {
   "cell_type": "code",
   "execution_count": 4,
   "id": "833d1e67",
   "metadata": {},
   "outputs": [
    {
     "data": {
      "text/plain": [
       "True"
      ]
     },
     "execution_count": 4,
     "metadata": {},
     "output_type": "execute_result"
    }
   ],
   "source": [
    "3 < 5 > 2"
   ]
  },
  {
   "cell_type": "code",
   "execution_count": 7,
   "id": "06e7d3d1",
   "metadata": {},
   "outputs": [
    {
     "data": {
      "text/plain": [
       "3"
      ]
     },
     "execution_count": 7,
     "metadata": {},
     "output_type": "execute_result"
    }
   ],
   "source": [
    "from random import choice\n",
    "choice([1, 2, 3, 4])"
   ]
  },
  {
   "cell_type": "markdown",
   "id": "38285f28",
   "metadata": {},
   "source": [
    "# python api\n",
    "* 数组切片中间用冒号：对于序列s，能够返回序列s石第i乎j以k为步痛的元素子序列的表达是（s[i:j:k]）\n",
    "* formatted print使用{:.2f}：利用print()格式化输出，能够控制浮点数小数点后2位输出的是（{:.2f}）\n",
    "* String.count : String -> (start : Option Int) -> (end : Option Int) -> String -- returns the number of times a specified value appears in the string.是"
   ]
  },
  {
   "cell_type": "markdown",
   "id": "52e881ee-d2a3-49ed-b3a8-bab22ef579d7",
   "metadata": {},
   "source": [
    "# hadoop\n",
    "* Hadoop aip 是通用的：【错误】Hadoop的文件API不是通用的，只用于HDFS文件系统\n",
    "* HBase依赖（MapReduce）提供强大的计算能力。\n",
    "* HBase 虚拟分布式模式需要1个节点，最好需要3个节点\n",
    "* HDfS 中的 block 默认保存3份\n",
    "* HFile数据格式中的MetaIndex字段用于（meta块的起始点）"
   ]
  },
  {
   "cell_type": "markdown",
   "id": "2b10f1cc-3414-42d4-bff4-be15ab576eef",
   "metadata": {},
   "source": [
    "# knn\n",
    "* 一般K-NN最近邻算法在（样本少典型好）的情况下效果最好"
   ]
  },
  {
   "cell_type": "markdown",
   "id": "4ecfcb20-f1bd-4097-8c25-739879d9ffee",
   "metadata": {},
   "source": [
    "# ml\n",
    "* 属于无监督学习的是（主成分分析）"
   ]
  },
  {
   "cell_type": "markdown",
   "id": "8b647b41-c49b-4402-b635-3e18b4db1a20",
   "metadata": {},
   "source": [
    "# idle\n",
    "* alt 3、4注释 5、6缩进"
   ]
  }
 ],
 "metadata": {
  "kernelspec": {
   "display_name": "base",
   "language": "python",
   "name": "python3"
  },
  "language_info": {
   "codemirror_mode": {
    "name": "ipython",
    "version": 3
   },
   "file_extension": ".py",
   "mimetype": "text/x-python",
   "name": "python",
   "nbconvert_exporter": "python",
   "pygments_lexer": "ipython3",
   "version": "3.11.6"
  }
 },
 "nbformat": 4,
 "nbformat_minor": 5
}
